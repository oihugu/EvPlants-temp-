{
 "cells": [
  {
   "cell_type": "code",
   "execution_count": 1,
   "id": "bbca6654-6a8b-4100-9884-f1929e7a72f2",
   "metadata": {},
   "outputs": [],
   "source": [
    "from matplotlib import pyplot as plt\n",
    "from  Application.lSystems import L_system"
   ]
  },
  {
   "cell_type": "code",
   "execution_count": 2,
   "id": "fb3c8b0a-54e4-4514-bc96-a230c31edacc",
   "metadata": {},
   "outputs": [],
   "source": [
    "sys_ = L_system('F', {'F': {'r' : 'FF'}})"
   ]
  },
  {
   "cell_type": "code",
   "execution_count": 4,
   "id": "0007a487-5826-4d46-96ba-e00c5e3c973a",
   "metadata": {},
   "outputs": [
    {
     "name": "stdout",
     "output_type": "stream",
     "text": [
      "0\n",
      "[Linha(pos=((0, 0), [6.123234e-17 2.000000e+00]), angle=90, size=1, width=1, color=#000000)]\n",
      "1\n",
      "[Linha(pos=((0, 0), [6.123234e-17 2.000000e+00]), angle=90, size=1, width=1, color=#000000), Linha(pos=([6.123234e-17 2.000000e+00], [1.2246468e-16 4.0000000e+00]), angle=90, size=1, width=1, color=#000000)]\n",
      "2\n",
      "[Linha(pos=((0, 0), [6.123234e-17 2.000000e+00]), angle=90, size=1, width=1, color=#000000), Linha(pos=([6.123234e-17 2.000000e+00], [1.2246468e-16 4.0000000e+00]), angle=90, size=1, width=1, color=#000000), Linha(pos=([1.2246468e-16 4.0000000e+00], [1.8369702e-16 6.0000000e+00]), angle=90, size=1, width=1, color=#000000)]\n",
      "3\n",
      "[Linha(pos=((0, 0), [6.123234e-17 2.000000e+00]), angle=90, size=1, width=1, color=#000000), Linha(pos=([6.123234e-17 2.000000e+00], [1.2246468e-16 4.0000000e+00]), angle=90, size=1, width=1, color=#000000), Linha(pos=([1.2246468e-16 4.0000000e+00], [1.8369702e-16 6.0000000e+00]), angle=90, size=1, width=1, color=#000000), Linha(pos=([1.8369702e-16 6.0000000e+00], [2.4492936e-16 8.0000000e+00]), angle=90, size=1, width=1, color=#000000)]\n",
      "4\n",
      "[Linha(pos=((0, 0), [6.123234e-17 2.000000e+00]), angle=90, size=1, width=1, color=#000000), Linha(pos=([6.123234e-17 2.000000e+00], [1.2246468e-16 4.0000000e+00]), angle=90, size=1, width=1, color=#000000), Linha(pos=([1.2246468e-16 4.0000000e+00], [1.8369702e-16 6.0000000e+00]), angle=90, size=1, width=1, color=#000000), Linha(pos=([1.8369702e-16 6.0000000e+00], [2.4492936e-16 8.0000000e+00]), angle=90, size=1, width=1, color=#000000), Linha(pos=([2.4492936e-16 8.0000000e+00], [3.061617e-16 1.000000e+01]), angle=90, size=1, width=1, color=#000000)]\n",
      "5\n",
      "[Linha(pos=((0, 0), [6.123234e-17 2.000000e+00]), angle=90, size=1, width=1, color=#000000), Linha(pos=([6.123234e-17 2.000000e+00], [1.2246468e-16 4.0000000e+00]), angle=90, size=1, width=1, color=#000000), Linha(pos=([1.2246468e-16 4.0000000e+00], [1.8369702e-16 6.0000000e+00]), angle=90, size=1, width=1, color=#000000), Linha(pos=([1.8369702e-16 6.0000000e+00], [2.4492936e-16 8.0000000e+00]), angle=90, size=1, width=1, color=#000000), Linha(pos=([2.4492936e-16 8.0000000e+00], [3.061617e-16 1.000000e+01]), angle=90, size=1, width=1, color=#000000), Linha(pos=([3.061617e-16 1.000000e+01], [3.6739404e-16 1.2000000e+01]), angle=90, size=1, width=1, color=#000000)]\n",
      "6\n",
      "[Linha(pos=((0, 0), [6.123234e-17 2.000000e+00]), angle=90, size=1, width=1, color=#000000), Linha(pos=([6.123234e-17 2.000000e+00], [1.2246468e-16 4.0000000e+00]), angle=90, size=1, width=1, color=#000000), Linha(pos=([1.2246468e-16 4.0000000e+00], [1.8369702e-16 6.0000000e+00]), angle=90, size=1, width=1, color=#000000), Linha(pos=([1.8369702e-16 6.0000000e+00], [2.4492936e-16 8.0000000e+00]), angle=90, size=1, width=1, color=#000000), Linha(pos=([2.4492936e-16 8.0000000e+00], [3.061617e-16 1.000000e+01]), angle=90, size=1, width=1, color=#000000), Linha(pos=([3.061617e-16 1.000000e+01], [3.6739404e-16 1.2000000e+01]), angle=90, size=1, width=1, color=#000000), Linha(pos=([3.6739404e-16 1.2000000e+01], [4.2862638e-16 1.4000000e+01]), angle=90, size=1, width=1, color=#000000)]\n",
      "7\n",
      "[Linha(pos=((0, 0), [6.123234e-17 2.000000e+00]), angle=90, size=1, width=1, color=#000000), Linha(pos=([6.123234e-17 2.000000e+00], [1.2246468e-16 4.0000000e+00]), angle=90, size=1, width=1, color=#000000), Linha(pos=([1.2246468e-16 4.0000000e+00], [1.8369702e-16 6.0000000e+00]), angle=90, size=1, width=1, color=#000000), Linha(pos=([1.8369702e-16 6.0000000e+00], [2.4492936e-16 8.0000000e+00]), angle=90, size=1, width=1, color=#000000), Linha(pos=([2.4492936e-16 8.0000000e+00], [3.061617e-16 1.000000e+01]), angle=90, size=1, width=1, color=#000000), Linha(pos=([3.061617e-16 1.000000e+01], [3.6739404e-16 1.2000000e+01]), angle=90, size=1, width=1, color=#000000), Linha(pos=([3.6739404e-16 1.2000000e+01], [4.2862638e-16 1.4000000e+01]), angle=90, size=1, width=1, color=#000000), Linha(pos=([4.2862638e-16 1.4000000e+01], [4.8985872e-16 1.6000000e+01]), angle=90, size=1, width=1, color=#000000)]\n",
      "8\n",
      "[Linha(pos=((0, 0), [6.123234e-17 2.000000e+00]), angle=90, size=1, width=1, color=#000000), Linha(pos=([6.123234e-17 2.000000e+00], [1.2246468e-16 4.0000000e+00]), angle=90, size=1, width=1, color=#000000), Linha(pos=([1.2246468e-16 4.0000000e+00], [1.8369702e-16 6.0000000e+00]), angle=90, size=1, width=1, color=#000000), Linha(pos=([1.8369702e-16 6.0000000e+00], [2.4492936e-16 8.0000000e+00]), angle=90, size=1, width=1, color=#000000), Linha(pos=([2.4492936e-16 8.0000000e+00], [3.061617e-16 1.000000e+01]), angle=90, size=1, width=1, color=#000000), Linha(pos=([3.061617e-16 1.000000e+01], [3.6739404e-16 1.2000000e+01]), angle=90, size=1, width=1, color=#000000), Linha(pos=([3.6739404e-16 1.2000000e+01], [4.2862638e-16 1.4000000e+01]), angle=90, size=1, width=1, color=#000000), Linha(pos=([4.2862638e-16 1.4000000e+01], [4.8985872e-16 1.6000000e+01]), angle=90, size=1, width=1, color=#000000), Linha(pos=([4.8985872e-16 1.6000000e+01], [5.5109106e-16 1.8000000e+01]), angle=90, size=1, width=1, color=#000000)]\n",
      "9\n",
      "[Linha(pos=((0, 0), [6.123234e-17 2.000000e+00]), angle=90, size=1, width=1, color=#000000), Linha(pos=([6.123234e-17 2.000000e+00], [1.2246468e-16 4.0000000e+00]), angle=90, size=1, width=1, color=#000000), Linha(pos=([1.2246468e-16 4.0000000e+00], [1.8369702e-16 6.0000000e+00]), angle=90, size=1, width=1, color=#000000), Linha(pos=([1.8369702e-16 6.0000000e+00], [2.4492936e-16 8.0000000e+00]), angle=90, size=1, width=1, color=#000000), Linha(pos=([2.4492936e-16 8.0000000e+00], [3.061617e-16 1.000000e+01]), angle=90, size=1, width=1, color=#000000), Linha(pos=([3.061617e-16 1.000000e+01], [3.6739404e-16 1.2000000e+01]), angle=90, size=1, width=1, color=#000000), Linha(pos=([3.6739404e-16 1.2000000e+01], [4.2862638e-16 1.4000000e+01]), angle=90, size=1, width=1, color=#000000), Linha(pos=([4.2862638e-16 1.4000000e+01], [4.8985872e-16 1.6000000e+01]), angle=90, size=1, width=1, color=#000000), Linha(pos=([4.8985872e-16 1.6000000e+01], [5.5109106e-16 1.8000000e+01]), angle=90, size=1, width=1, color=#000000), Linha(pos=([5.5109106e-16 1.8000000e+01], [6.123234e-16 2.000000e+01]), angle=90, size=1, width=1, color=#000000)]\n",
      "10\n",
      "[Linha(pos=((0, 0), [6.123234e-17 2.000000e+00]), angle=90, size=1, width=1, color=#000000), Linha(pos=([6.123234e-17 2.000000e+00], [1.2246468e-16 4.0000000e+00]), angle=90, size=1, width=1, color=#000000), Linha(pos=([1.2246468e-16 4.0000000e+00], [1.8369702e-16 6.0000000e+00]), angle=90, size=1, width=1, color=#000000), Linha(pos=([1.8369702e-16 6.0000000e+00], [2.4492936e-16 8.0000000e+00]), angle=90, size=1, width=1, color=#000000), Linha(pos=([2.4492936e-16 8.0000000e+00], [3.061617e-16 1.000000e+01]), angle=90, size=1, width=1, color=#000000), Linha(pos=([3.061617e-16 1.000000e+01], [3.6739404e-16 1.2000000e+01]), angle=90, size=1, width=1, color=#000000), Linha(pos=([3.6739404e-16 1.2000000e+01], [4.2862638e-16 1.4000000e+01]), angle=90, size=1, width=1, color=#000000), Linha(pos=([4.2862638e-16 1.4000000e+01], [4.8985872e-16 1.6000000e+01]), angle=90, size=1, width=1, color=#000000), Linha(pos=([4.8985872e-16 1.6000000e+01], [5.5109106e-16 1.8000000e+01]), angle=90, size=1, width=1, color=#000000), Linha(pos=([5.5109106e-16 1.8000000e+01], [6.123234e-16 2.000000e+01]), angle=90, size=1, width=1, color=#000000), Linha(pos=([6.123234e-16 2.000000e+01], [6.7355574e-16 2.2000000e+01]), angle=90, size=1, width=1, color=#000000)]\n",
      "11\n",
      "[Linha(pos=((0, 0), [6.123234e-17 2.000000e+00]), angle=90, size=1, width=1, color=#000000), Linha(pos=([6.123234e-17 2.000000e+00], [1.2246468e-16 4.0000000e+00]), angle=90, size=1, width=1, color=#000000), Linha(pos=([1.2246468e-16 4.0000000e+00], [1.8369702e-16 6.0000000e+00]), angle=90, size=1, width=1, color=#000000), Linha(pos=([1.8369702e-16 6.0000000e+00], [2.4492936e-16 8.0000000e+00]), angle=90, size=1, width=1, color=#000000), Linha(pos=([2.4492936e-16 8.0000000e+00], [3.061617e-16 1.000000e+01]), angle=90, size=1, width=1, color=#000000), Linha(pos=([3.061617e-16 1.000000e+01], [3.6739404e-16 1.2000000e+01]), angle=90, size=1, width=1, color=#000000), Linha(pos=([3.6739404e-16 1.2000000e+01], [4.2862638e-16 1.4000000e+01]), angle=90, size=1, width=1, color=#000000), Linha(pos=([4.2862638e-16 1.4000000e+01], [4.8985872e-16 1.6000000e+01]), angle=90, size=1, width=1, color=#000000), Linha(pos=([4.8985872e-16 1.6000000e+01], [5.5109106e-16 1.8000000e+01]), angle=90, size=1, width=1, color=#000000), Linha(pos=([5.5109106e-16 1.8000000e+01], [6.123234e-16 2.000000e+01]), angle=90, size=1, width=1, color=#000000), Linha(pos=([6.123234e-16 2.000000e+01], [6.7355574e-16 2.2000000e+01]), angle=90, size=1, width=1, color=#000000), Linha(pos=([6.7355574e-16 2.2000000e+01], [7.34788079e-16 2.40000000e+01]), angle=90, size=1, width=1, color=#000000)]\n",
      "12\n",
      "[Linha(pos=((0, 0), [6.123234e-17 2.000000e+00]), angle=90, size=1, width=1, color=#000000), Linha(pos=([6.123234e-17 2.000000e+00], [1.2246468e-16 4.0000000e+00]), angle=90, size=1, width=1, color=#000000), Linha(pos=([1.2246468e-16 4.0000000e+00], [1.8369702e-16 6.0000000e+00]), angle=90, size=1, width=1, color=#000000), Linha(pos=([1.8369702e-16 6.0000000e+00], [2.4492936e-16 8.0000000e+00]), angle=90, size=1, width=1, color=#000000), Linha(pos=([2.4492936e-16 8.0000000e+00], [3.061617e-16 1.000000e+01]), angle=90, size=1, width=1, color=#000000), Linha(pos=([3.061617e-16 1.000000e+01], [3.6739404e-16 1.2000000e+01]), angle=90, size=1, width=1, color=#000000), Linha(pos=([3.6739404e-16 1.2000000e+01], [4.2862638e-16 1.4000000e+01]), angle=90, size=1, width=1, color=#000000), Linha(pos=([4.2862638e-16 1.4000000e+01], [4.8985872e-16 1.6000000e+01]), angle=90, size=1, width=1, color=#000000), Linha(pos=([4.8985872e-16 1.6000000e+01], [5.5109106e-16 1.8000000e+01]), angle=90, size=1, width=1, color=#000000), Linha(pos=([5.5109106e-16 1.8000000e+01], [6.123234e-16 2.000000e+01]), angle=90, size=1, width=1, color=#000000), Linha(pos=([6.123234e-16 2.000000e+01], [6.7355574e-16 2.2000000e+01]), angle=90, size=1, width=1, color=#000000), Linha(pos=([6.7355574e-16 2.2000000e+01], [7.34788079e-16 2.40000000e+01]), angle=90, size=1, width=1, color=#000000), Linha(pos=([7.34788079e-16 2.40000000e+01], [7.96020419e-16 2.60000000e+01]), angle=90, size=1, width=1, color=#000000)]\n",
      "13\n",
      "[Linha(pos=((0, 0), [6.123234e-17 2.000000e+00]), angle=90, size=1, width=1, color=#000000), Linha(pos=([6.123234e-17 2.000000e+00], [1.2246468e-16 4.0000000e+00]), angle=90, size=1, width=1, color=#000000), Linha(pos=([1.2246468e-16 4.0000000e+00], [1.8369702e-16 6.0000000e+00]), angle=90, size=1, width=1, color=#000000), Linha(pos=([1.8369702e-16 6.0000000e+00], [2.4492936e-16 8.0000000e+00]), angle=90, size=1, width=1, color=#000000), Linha(pos=([2.4492936e-16 8.0000000e+00], [3.061617e-16 1.000000e+01]), angle=90, size=1, width=1, color=#000000), Linha(pos=([3.061617e-16 1.000000e+01], [3.6739404e-16 1.2000000e+01]), angle=90, size=1, width=1, color=#000000), Linha(pos=([3.6739404e-16 1.2000000e+01], [4.2862638e-16 1.4000000e+01]), angle=90, size=1, width=1, color=#000000), Linha(pos=([4.2862638e-16 1.4000000e+01], [4.8985872e-16 1.6000000e+01]), angle=90, size=1, width=1, color=#000000), Linha(pos=([4.8985872e-16 1.6000000e+01], [5.5109106e-16 1.8000000e+01]), angle=90, size=1, width=1, color=#000000), Linha(pos=([5.5109106e-16 1.8000000e+01], [6.123234e-16 2.000000e+01]), angle=90, size=1, width=1, color=#000000), Linha(pos=([6.123234e-16 2.000000e+01], [6.7355574e-16 2.2000000e+01]), angle=90, size=1, width=1, color=#000000), Linha(pos=([6.7355574e-16 2.2000000e+01], [7.34788079e-16 2.40000000e+01]), angle=90, size=1, width=1, color=#000000), Linha(pos=([7.34788079e-16 2.40000000e+01], [7.96020419e-16 2.60000000e+01]), angle=90, size=1, width=1, color=#000000), Linha(pos=([7.96020419e-16 2.60000000e+01], [8.57252759e-16 2.80000000e+01]), angle=90, size=1, width=1, color=#000000)]\n",
      "14\n",
      "[Linha(pos=((0, 0), [6.123234e-17 2.000000e+00]), angle=90, size=1, width=1, color=#000000), Linha(pos=([6.123234e-17 2.000000e+00], [1.2246468e-16 4.0000000e+00]), angle=90, size=1, width=1, color=#000000), Linha(pos=([1.2246468e-16 4.0000000e+00], [1.8369702e-16 6.0000000e+00]), angle=90, size=1, width=1, color=#000000), Linha(pos=([1.8369702e-16 6.0000000e+00], [2.4492936e-16 8.0000000e+00]), angle=90, size=1, width=1, color=#000000), Linha(pos=([2.4492936e-16 8.0000000e+00], [3.061617e-16 1.000000e+01]), angle=90, size=1, width=1, color=#000000), Linha(pos=([3.061617e-16 1.000000e+01], [3.6739404e-16 1.2000000e+01]), angle=90, size=1, width=1, color=#000000), Linha(pos=([3.6739404e-16 1.2000000e+01], [4.2862638e-16 1.4000000e+01]), angle=90, size=1, width=1, color=#000000), Linha(pos=([4.2862638e-16 1.4000000e+01], [4.8985872e-16 1.6000000e+01]), angle=90, size=1, width=1, color=#000000), Linha(pos=([4.8985872e-16 1.6000000e+01], [5.5109106e-16 1.8000000e+01]), angle=90, size=1, width=1, color=#000000), Linha(pos=([5.5109106e-16 1.8000000e+01], [6.123234e-16 2.000000e+01]), angle=90, size=1, width=1, color=#000000), Linha(pos=([6.123234e-16 2.000000e+01], [6.7355574e-16 2.2000000e+01]), angle=90, size=1, width=1, color=#000000), Linha(pos=([6.7355574e-16 2.2000000e+01], [7.34788079e-16 2.40000000e+01]), angle=90, size=1, width=1, color=#000000), Linha(pos=([7.34788079e-16 2.40000000e+01], [7.96020419e-16 2.60000000e+01]), angle=90, size=1, width=1, color=#000000), Linha(pos=([7.96020419e-16 2.60000000e+01], [8.57252759e-16 2.80000000e+01]), angle=90, size=1, width=1, color=#000000), Linha(pos=([8.57252759e-16 2.80000000e+01], [9.18485099e-16 3.00000000e+01]), angle=90, size=1, width=1, color=#000000)]\n",
      "15\n",
      "[Linha(pos=((0, 0), [6.123234e-17 2.000000e+00]), angle=90, size=1, width=1, color=#000000), Linha(pos=([6.123234e-17 2.000000e+00], [1.2246468e-16 4.0000000e+00]), angle=90, size=1, width=1, color=#000000), Linha(pos=([1.2246468e-16 4.0000000e+00], [1.8369702e-16 6.0000000e+00]), angle=90, size=1, width=1, color=#000000), Linha(pos=([1.8369702e-16 6.0000000e+00], [2.4492936e-16 8.0000000e+00]), angle=90, size=1, width=1, color=#000000), Linha(pos=([2.4492936e-16 8.0000000e+00], [3.061617e-16 1.000000e+01]), angle=90, size=1, width=1, color=#000000), Linha(pos=([3.061617e-16 1.000000e+01], [3.6739404e-16 1.2000000e+01]), angle=90, size=1, width=1, color=#000000), Linha(pos=([3.6739404e-16 1.2000000e+01], [4.2862638e-16 1.4000000e+01]), angle=90, size=1, width=1, color=#000000), Linha(pos=([4.2862638e-16 1.4000000e+01], [4.8985872e-16 1.6000000e+01]), angle=90, size=1, width=1, color=#000000), Linha(pos=([4.8985872e-16 1.6000000e+01], [5.5109106e-16 1.8000000e+01]), angle=90, size=1, width=1, color=#000000), Linha(pos=([5.5109106e-16 1.8000000e+01], [6.123234e-16 2.000000e+01]), angle=90, size=1, width=1, color=#000000), Linha(pos=([6.123234e-16 2.000000e+01], [6.7355574e-16 2.2000000e+01]), angle=90, size=1, width=1, color=#000000), Linha(pos=([6.7355574e-16 2.2000000e+01], [7.34788079e-16 2.40000000e+01]), angle=90, size=1, width=1, color=#000000), Linha(pos=([7.34788079e-16 2.40000000e+01], [7.96020419e-16 2.60000000e+01]), angle=90, size=1, width=1, color=#000000), Linha(pos=([7.96020419e-16 2.60000000e+01], [8.57252759e-16 2.80000000e+01]), angle=90, size=1, width=1, color=#000000), Linha(pos=([8.57252759e-16 2.80000000e+01], [9.18485099e-16 3.00000000e+01]), angle=90, size=1, width=1, color=#000000), Linha(pos=([9.18485099e-16 3.00000000e+01], [9.79717439e-16 3.20000000e+01]), angle=90, size=1, width=1, color=#000000)]\n"
     ]
    },
    {
     "ename": "NameError",
     "evalue": "name 'plt' is not defined",
     "output_type": "error",
     "traceback": [
      "\u001b[1;31m---------------------------------------------------------------------------\u001b[0m",
      "\u001b[1;31mNameError\u001b[0m                                 Traceback (most recent call last)",
      "\u001b[1;32m~\\AppData\\Local\\Temp/ipykernel_18380/2603885418.py\u001b[0m in \u001b[0;36m<module>\u001b[1;34m\u001b[0m\n\u001b[0;32m      1\u001b[0m \u001b[0msys_\u001b[0m\u001b[1;33m.\u001b[0m\u001b[0mrun\u001b[0m\u001b[1;33m(\u001b[0m\u001b[1;36m2\u001b[0m\u001b[1;33m)\u001b[0m\u001b[1;33m\u001b[0m\u001b[1;33m\u001b[0m\u001b[0m\n\u001b[1;32m----> 2\u001b[1;33m \u001b[0mplt\u001b[0m\u001b[1;33m.\u001b[0m\u001b[0mxlim\u001b[0m\u001b[1;33m(\u001b[0m\u001b[1;33m-\u001b[0m\u001b[1;36m10\u001b[0m\u001b[1;33m,\u001b[0m \u001b[1;36m10\u001b[0m\u001b[1;33m)\u001b[0m\u001b[1;33m\u001b[0m\u001b[1;33m\u001b[0m\u001b[0m\n\u001b[0m",
      "\u001b[1;31mNameError\u001b[0m: name 'plt' is not defined"
     ]
    },
    {
     "data": {
      "image/png": "[encoded data removed]",
      "text/plain": [
       "<Figure size 360x360 with 1 Axes>"
      ]
     },
     "metadata": {
      "needs_background": "light"
     },
     "output_type": "display_data"
    }
   ],
   "source": [
    "sys_.run(2)\n",
    "plt.xlim(-10, 10)"
   ]
  },
  {
   "cell_type": "code",
   "execution_count": 5,
   "id": "4573edb8",
   "metadata": {},
   "outputs": [
    {
     "data": {
      "text/plain": [
       "[Linha(pos=((0, 0), [6.123234e-17 2.000000e+00]), angle=90, size=1, width=1, color=#000000),\n",
       " Linha(pos=([6.123234e-17 2.000000e+00], [1.2246468e-16 4.0000000e+00]), angle=90, size=1, width=1, color=#000000),\n",
       " Linha(pos=([1.2246468e-16 4.0000000e+00], [1.8369702e-16 6.0000000e+00]), angle=90, size=1, width=1, color=#000000),\n",
       " Linha(pos=([1.8369702e-16 6.0000000e+00], [2.4492936e-16 8.0000000e+00]), angle=90, size=1, width=1, color=#000000)]"
      ]
     },
     "execution_count": 5,
     "metadata": {},
     "output_type": "execute_result"
    }
   ],
   "source": [
    "sys_.lines"
   ]
  },
  {
   "cell_type": "code",
   "execution_count": 16,
   "id": "bff8eb12",
   "metadata": {},
   "outputs": [
    {
     "data": {
      "text/plain": [
       "-33"
      ]
     },
     "execution_count": 16,
     "metadata": {},
     "output_type": "execute_result"
    }
   ],
   "source": [
    "90-123"
   ]
  },
  {
   "cell_type": "code",
   "execution_count": 5,
   "id": "b80bfcd2-205f-48f7-97af-731234721472",
   "metadata": {},
   "outputs": [],
   "source": [
    "from  Application.lSystems.structure import Element_sequence\n",
    "from  Application.lSystems.structure import Element\n",
    "\n",
    "__default = {'visual' :{'size': 1, \n",
    "                            'width': 1, \n",
    "                            'color': '#000000'},\n",
    "                'space'   :{'position': (0,0),\n",
    "                            'angle': 90,\n",
    "                            'angle_diff': 33},\n",
    "                'canvas'  :{'width': 1000,\n",
    "                            'height': 1000}\n",
    "                }\n",
    "\n",
    "es = Element_sequence()\n",
    "es2 = Element_sequence()"
   ]
  },
  {
   "cell_type": "code",
   "execution_count": 6,
   "id": "7b6a277c-9da3-4ab1-a502-5feeae1d3516",
   "metadata": {},
   "outputs": [],
   "source": [
    "es.append(Element('F', __default))\n",
    "es.append(Element('F', __default))\n",
    "es.append(Element('E', __default))\n",
    "es.append(Element('R', __default))\n",
    "es.append(Element('R', __default))\n",
    "es.append(Element('O', __default))\n",
    "es.append(Element('F', __default))\n",
    "\n",
    "es2.append(Element('X', __default))\n",
    "es2.append(Element('X', __default))\n",
    "es2.append(Element('X', __default))"
   ]
  },
  {
   "cell_type": "code",
   "execution_count": 7,
   "id": "6159ea6b-5a43-49f9-a85f-f2bf1485d669",
   "metadata": {},
   "outputs": [
    {
     "data": {
      "text/plain": [
       "[0, 1, 6]"
      ]
     },
     "execution_count": 7,
     "metadata": {},
     "output_type": "execute_result"
    }
   ],
   "source": [
    "es.find_all(Element('F', __default))"
   ]
  },
  {
   "cell_type": "code",
   "execution_count": 8,
   "id": "12bfed7b-05a7-4bd5-b85c-7e1863fbcb37",
   "metadata": {},
   "outputs": [
    {
     "data": {
      "text/plain": [
       "[C(F), C(F), C(E), C(R), C(R), C(O), C(F)]"
      ]
     },
     "execution_count": 8,
     "metadata": {},
     "output_type": "execute_result"
    }
   ],
   "source": [
    "es"
   ]
  },
  {
   "cell_type": "code",
   "execution_count": 9,
   "id": "3947f712-5475-42bb-bf02-98d6c429dd13",
   "metadata": {},
   "outputs": [],
   "source": [
    "es.replace(Element('R', __default),Element('A', __default))"
   ]
  },
  {
   "cell_type": "code",
   "execution_count": 10,
   "id": "4c6d85df-f456-4bd0-af38-a6eb5b2e775d",
   "metadata": {},
   "outputs": [],
   "source": [
    "es.replace(Element('O', __default),es2)"
   ]
  },
  {
   "cell_type": "code",
   "execution_count": 11,
   "id": "55aad530-c29a-46b6-852d-c78505042a9c",
   "metadata": {},
   "outputs": [
    {
     "data": {
      "text/plain": [
       "[C(F), C(F), C(E), C(A), C(A), C(X), C(X), C(X), C(F)]"
      ]
     },
     "execution_count": 11,
     "metadata": {},
     "output_type": "execute_result"
    }
   ],
   "source": [
    "es"
   ]
  },
  {
   "cell_type": "code",
   "execution_count": 7,
   "id": "03e729a1-61eb-490e-9267-7a2b1c733d07",
   "metadata": {},
   "outputs": [
    {
     "data": {
      "image/png": "[encoded data removed]",
      "text/plain": [
       "<Figure size 432x288 with 1 Axes>"
      ]
     },
     "metadata": {
      "needs_background": "light"
     },
     "output_type": "display_data"
    }
   ],
   "source": [
    "import Application.lSystems.structure.line as line\n",
    "\n",
    "l = line.Linha(angle=0, size=1, width=2, color=(0,0,0))\n",
    "\n",
    "l.start_position = (0,0)\n",
    "l.end_position = (0,1)\n",
    "\n",
    "l.rotate()\n",
    "\n",
    "l.plot()"
   ]
  },
  {
   "cell_type": "code",
   "execution_count": 8,
   "id": "ff35e639",
   "metadata": {},
   "outputs": [
    {
     "data": {
      "text/plain": [
       "array([1., 0.])"
      ]
     },
     "execution_count": 8,
     "metadata": {},
     "output_type": "execute_result"
    }
   ],
   "source": [
    "l.rotate()\n"
   ]
  },
  {
   "cell_type": "code",
   "execution_count": null,
   "metadata": {},
   "outputs": [],
   "source": []
  }
 ],
 "metadata": {
  "kernelspec": {
   "display_name": "Python 3",
   "language": "python",
   "name": "python3"
  },
  "language_info": {
   "codemirror_mode": {
    "name": "ipython",
    "version": 3
   },
   "file_extension": ".py",
   "mimetype": "text/x-python",
   "name": "python",
   "nbconvert_exporter": "python",
   "pygments_lexer": "ipython3",
   "version": "3.9.7"
  }
 },
 "nbformat": 4,
 "nbformat_minor": 5
}
