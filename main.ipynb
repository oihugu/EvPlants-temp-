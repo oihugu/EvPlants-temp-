{
 "cells": [
  {
   "cell_type": "code",
   "execution_count": 3,
   "id": "bbca6654-6a8b-4100-9884-f1929e7a72f2",
   "metadata": {},
   "outputs": [],
   "source": [
    "from  Application.lSystems import L_system"
   ]
  },
  {
   "cell_type": "code",
   "execution_count": 4,
   "id": "fb3c8b0a-54e4-4514-bc96-a230c31edacc",
   "metadata": {},
   "outputs": [],
   "source": [
    "sys = L_system('F', {'F': {'r' : 'F++F'}})"
   ]
  },
  {
   "cell_type": "code",
   "execution_count": 5,
   "id": "0007a487-5826-4d46-96ba-e00c5e3c973a",
   "metadata": {},
   "outputs": [
    {
     "data": {
      "text/plain": [
       "<module 'matplotlib.pyplot' from '/usr/local/lib/python3.7/site-packages/matplotlib/pyplot.py'>"
      ]
     },
     "execution_count": 5,
     "metadata": {},
     "output_type": "execute_result"
    },
    {
     "data": {
      "image/png": "[encoded data removed]",
      "text/plain": [
       "<Figure size 360x360 with 1 Axes>"
      ]
     },
     "metadata": {
      "needs_background": "light"
     },
     "output_type": "display_data"
    }
   ],
   "source": [
    "sys.run(3)"
   ]
  },
  {
   "cell_type": "code",
   "execution_count": 5,
   "id": "b80bfcd2-205f-48f7-97af-731234721472",
   "metadata": {},
   "outputs": [],
   "source": [
    "from  Application.lSystems.structure import Element_sequence\n",
    "from  Application.lSystems.structure import Element\n",
    "\n",
    "__default = {'visual' :{'size': 1, \n",
    "                            'width': 1, \n",
    "                            'color': '#000000'},\n",
    "                'space'   :{'position': (0,0),\n",
    "                            'angle': 90,\n",
    "                            'angle_diff': 33},\n",
    "                'canvas'  :{'width': 1000,\n",
    "                            'height': 1000}\n",
    "                }\n",
    "\n",
    "es = Element_sequence()\n",
    "es2 = Element_sequence()"
   ]
  },
  {
   "cell_type": "code",
   "execution_count": 6,
   "id": "7b6a277c-9da3-4ab1-a502-5feeae1d3516",
   "metadata": {},
   "outputs": [],
   "source": [
    "es.append(Element('F', __default))\n",
    "es.append(Element('F', __default))\n",
    "es.append(Element('E', __default))\n",
    "es.append(Element('R', __default))\n",
    "es.append(Element('R', __default))\n",
    "es.append(Element('O', __default))\n",
    "es.append(Element('F', __default))\n",
    "\n",
    "es2.append(Element('X', __default))\n",
    "es2.append(Element('X', __default))\n",
    "es2.append(Element('X', __default))"
   ]
  },
  {
   "cell_type": "code",
   "execution_count": 7,
   "id": "6159ea6b-5a43-49f9-a85f-f2bf1485d669",
   "metadata": {},
   "outputs": [
    {
     "data": {
      "text/plain": [
       "[0, 1, 6]"
      ]
     },
     "execution_count": 7,
     "metadata": {},
     "output_type": "execute_result"
    }
   ],
   "source": [
    "es.find_all(Element('F', __default))"
   ]
  },
  {
   "cell_type": "code",
   "execution_count": 8,
   "id": "12bfed7b-05a7-4bd5-b85c-7e1863fbcb37",
   "metadata": {},
   "outputs": [
    {
     "data": {
      "text/plain": [
       "[C(F), C(F), C(E), C(R), C(R), C(O), C(F)]"
      ]
     },
     "execution_count": 8,
     "metadata": {},
     "output_type": "execute_result"
    }
   ],
   "source": [
    "es"
   ]
  },
  {
   "cell_type": "code",
   "execution_count": 9,
   "id": "3947f712-5475-42bb-bf02-98d6c429dd13",
   "metadata": {},
   "outputs": [],
   "source": [
    "es.replace(Element('R', __default),Element('A', __default))"
   ]
  },
  {
   "cell_type": "code",
   "execution_count": 10,
   "id": "4c6d85df-f456-4bd0-af38-a6eb5b2e775d",
   "metadata": {},
   "outputs": [],
   "source": [
    "es.replace(Element('O', __default),es2)"
   ]
  },
  {
   "cell_type": "code",
   "execution_count": 11,
   "id": "55aad530-c29a-46b6-852d-c78505042a9c",
   "metadata": {},
   "outputs": [
    {
     "data": {
      "text/plain": [
       "[C(F), C(F), C(E), C(A), C(A), C(X), C(X), C(X), C(F)]"
      ]
     },
     "execution_count": 11,
     "metadata": {},
     "output_type": "execute_result"
    }
   ],
   "source": [
    "es"
   ]
  },
  {
   "cell_type": "code",
   "execution_count": 3,
   "id": "b5f9bb31-7bf2-4f86-b230-5f685ddd33f8",
   "metadata": {},
   "outputs": [
    {
     "ename": "IndexError",
     "evalue": "list index out of range",
     "output_type": "error",
     "traceback": [
      "\u001b[0;31m---------------------------------------------------------------------------\u001b[0m",
      "\u001b[0;31mIndexError\u001b[0m                                Traceback (most recent call last)",
      "\u001b[0;32m<ipython-input-3-212bc78bf802>\u001b[0m in \u001b[0;36m<module>\u001b[0;34m\u001b[0m\n\u001b[0;32m----> 1\u001b[0;31m \u001b[0;34m[\u001b[0m\u001b[0;34m]\u001b[0m\u001b[0;34m[\u001b[0m\u001b[0;36m0\u001b[0m\u001b[0;34m]\u001b[0m\u001b[0;34m\u001b[0m\u001b[0;34m\u001b[0m\u001b[0m\n\u001b[0m",
      "\u001b[0;31mIndexError\u001b[0m: list index out of range"
     ]
    }
   ],
   "source": [
    "[][0]"
   ]
  },
  {
   "cell_type": "code",
   "execution_count": null,
   "id": "03e729a1-61eb-490e-9267-7a2b1c733d07",
   "metadata": {},
   "outputs": [],
   "source": []
  }
 ],
 "metadata": {
  "kernelspec": {
   "display_name": "Python 3",
   "language": "python",
   "name": "python3"
  },
  "language_info": {
   "codemirror_mode": {
    "name": "ipython",
    "version": 3
   },
   "file_extension": ".py",
   "mimetype": "text/x-python",
   "name": "python",
   "nbconvert_exporter": "python",
   "pygments_lexer": "ipython3",
   "version": "3.7.12"
  }
 },
 "nbformat": 4,
 "nbformat_minor": 5
}
