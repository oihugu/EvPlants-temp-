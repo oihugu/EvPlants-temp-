{
 "cells": [
  {
   "cell_type": "code",
   "execution_count": 1,
   "id": "bbca6654-6a8b-4100-9884-f1929e7a72f2",
   "metadata": {},
   "outputs": [],
   "source": [
    "from matplotlib import pyplot as plt\n",
    "from  Application.lSystems import L_system"
   ]
  },
  {
   "cell_type": "code",
   "execution_count": 2,
   "id": "0007a487-5826-4d46-96ba-e00c5e3c973a",
   "metadata": {},
   "outputs": [
    {
     "name": "stdout",
     "output_type": "stream",
     "text": [
      "1. Começando\n",
      "3. Retriving -> [6.123234e-17 2.000000e+00]\n",
      "3. Retriving -> [-0.54463904  3.83867057]\n",
      "## stack_store -> [1]\n",
      "3. Retriving -> [-0.54463904  5.83867057]\n",
      "1. Começando\n",
      "3. Retriving -> [6.123234e-17 2.000000e+00]\n",
      "3. Retriving -> [-0.54463904  3.83867057]\n",
      "3. Retriving -> [-1.08927807  5.67734114]\n",
      "3. Retriving -> [-1.63391711  7.5160117 ]\n",
      "3. Retriving -> [-2.54746256  8.92274835]\n",
      "## stack_store -> [1, 5, 7]\n",
      "3. Retriving -> [-2.54746256 10.92274835]\n",
      "3. Retriving -> [-2.54746256 12.92274835]\n",
      "3. Retriving -> [-3.46100802 14.32948499]\n",
      "## stack_store -> [1, 5]\n",
      "3. Retriving -> [-3.46100802 16.32948499]\n",
      "3. Retriving -> [-3.46100802 18.32948499]\n",
      "3. Retriving -> [-4.44869636 19.17305052]\n",
      "## stack_store -> [1]\n",
      "3. Retriving -> [-4.44869636 21.17305052]\n",
      "3. Retriving -> [-4.44869636 23.17305052]\n",
      "## stack_store -> []\n"
     ]
    },
    {
     "ename": "IndexError",
     "evalue": "pop from empty list",
     "output_type": "error",
     "traceback": [
      "\u001b[0;31m---------------------------------------------------------------------------\u001b[0m",
      "\u001b[0;31mIndexError\u001b[0m                                Traceback (most recent call last)",
      "\u001b[0;32m<ipython-input-2-110e45a52667>\u001b[0m in \u001b[0;36m<module>\u001b[0;34m\u001b[0m\n\u001b[1;32m      1\u001b[0m \u001b[0msys_\u001b[0m \u001b[0;34m=\u001b[0m \u001b[0mL_system\u001b[0m\u001b[0;34m(\u001b[0m\u001b[0;34m'F'\u001b[0m\u001b[0;34m,\u001b[0m \u001b[0;34m{\u001b[0m\u001b[0;34m'F'\u001b[0m\u001b[0;34m:\u001b[0m \u001b[0;34m{\u001b[0m\u001b[0;34m'r'\u001b[0m \u001b[0;34m:\u001b[0m \u001b[0;34m'F[+FF]F'\u001b[0m\u001b[0;34m}\u001b[0m\u001b[0;34m}\u001b[0m\u001b[0;34m)\u001b[0m\u001b[0;34m\u001b[0m\u001b[0;34m\u001b[0m\u001b[0m\n\u001b[0;32m----> 2\u001b[0;31m \u001b[0msys_\u001b[0m\u001b[0;34m.\u001b[0m\u001b[0mrun\u001b[0m\u001b[0;34m(\u001b[0m\u001b[0;36m2\u001b[0m\u001b[0;34m)\u001b[0m\u001b[0;34m\u001b[0m\u001b[0;34m\u001b[0m\u001b[0m\n\u001b[0m\u001b[1;32m      3\u001b[0m \u001b[0mplt\u001b[0m\u001b[0;34m.\u001b[0m\u001b[0mxlim\u001b[0m\u001b[0;34m(\u001b[0m\u001b[0;34m-\u001b[0m\u001b[0;36m10\u001b[0m\u001b[0;34m,\u001b[0m \u001b[0;36m10\u001b[0m\u001b[0;34m)\u001b[0m\u001b[0;34m\u001b[0m\u001b[0;34m\u001b[0m\u001b[0m\n",
      "\u001b[0;32m~/ep/Evolucao-Plantas-reforged/Application/lSystems/__init__.py\u001b[0m in \u001b[0;36mrun\u001b[0;34m(self, generations)\u001b[0m\n\u001b[1;32m    119\u001b[0m         \u001b[0;32mfor\u001b[0m \u001b[0mi\u001b[0m \u001b[0;32min\u001b[0m \u001b[0mrange\u001b[0m\u001b[0;34m(\u001b[0m\u001b[0mgenerations\u001b[0m \u001b[0;34m-\u001b[0m \u001b[0;36m1\u001b[0m\u001b[0;34m)\u001b[0m\u001b[0;34m:\u001b[0m\u001b[0;34m\u001b[0m\u001b[0;34m\u001b[0m\u001b[0m\n\u001b[1;32m    120\u001b[0m             \u001b[0mself\u001b[0m\u001b[0;34m.\u001b[0m\u001b[0mrun_generation\u001b[0m\u001b[0;34m(\u001b[0m\u001b[0;34m)\u001b[0m\u001b[0;34m\u001b[0m\u001b[0;34m\u001b[0m\u001b[0m\n\u001b[0;32m--> 121\u001b[0;31m         \u001b[0mself\u001b[0m\u001b[0;34m.\u001b[0m\u001b[0mrun_generation\u001b[0m\u001b[0;34m(\u001b[0m\u001b[0;34m)\u001b[0m\u001b[0;34m\u001b[0m\u001b[0;34m\u001b[0m\u001b[0m\n\u001b[0m\u001b[1;32m    122\u001b[0m         \u001b[0mcanvas\u001b[0m \u001b[0;34m=\u001b[0m \u001b[0mstructure\u001b[0m\u001b[0;34m.\u001b[0m\u001b[0mCanvas\u001b[0m\u001b[0;34m(\u001b[0m\u001b[0mself\u001b[0m\u001b[0;34m.\u001b[0m\u001b[0mdefault\u001b[0m\u001b[0;34m[\u001b[0m\u001b[0;34m'canvas'\u001b[0m\u001b[0;34m]\u001b[0m\u001b[0;34m[\u001b[0m\u001b[0;34m'width'\u001b[0m\u001b[0;34m]\u001b[0m\u001b[0;34m,\u001b[0m \u001b[0mself\u001b[0m\u001b[0;34m.\u001b[0m\u001b[0mdefault\u001b[0m\u001b[0;34m[\u001b[0m\u001b[0;34m'canvas'\u001b[0m\u001b[0;34m]\u001b[0m\u001b[0;34m[\u001b[0m\u001b[0;34m'height'\u001b[0m\u001b[0;34m]\u001b[0m\u001b[0;34m,\u001b[0m \u001b[0mself\u001b[0m\u001b[0;34m.\u001b[0m\u001b[0mlines\u001b[0m\u001b[0;34m)\u001b[0m\u001b[0;34m\u001b[0m\u001b[0;34m\u001b[0m\u001b[0m\n\u001b[1;32m    123\u001b[0m         \u001b[0mplt\u001b[0m \u001b[0;34m=\u001b[0m \u001b[0mcanvas\u001b[0m\u001b[0;34m.\u001b[0m\u001b[0mdraw\u001b[0m\u001b[0;34m(\u001b[0m\u001b[0;34m)\u001b[0m\u001b[0;34m\u001b[0m\u001b[0;34m\u001b[0m\u001b[0m\n",
      "\u001b[0;32m~/ep/Evolucao-Plantas-reforged/Application/lSystems/__init__.py\u001b[0m in \u001b[0;36mrun_generation\u001b[0;34m(self)\u001b[0m\n\u001b[1;32m    109\u001b[0m     \u001b[0;32mdef\u001b[0m \u001b[0mrun_generation\u001b[0m\u001b[0;34m(\u001b[0m\u001b[0mself\u001b[0m\u001b[0;34m)\u001b[0m\u001b[0;34m:\u001b[0m\u001b[0;34m\u001b[0m\u001b[0;34m\u001b[0m\u001b[0m\n\u001b[1;32m    110\u001b[0m         \u001b[0mself\u001b[0m\u001b[0;34m.\u001b[0m\u001b[0mre_write\u001b[0m\u001b[0;34m(\u001b[0m\u001b[0;34m)\u001b[0m\u001b[0;34m\u001b[0m\u001b[0;34m\u001b[0m\u001b[0m\n\u001b[0;32m--> 111\u001b[0;31m         \u001b[0mself\u001b[0m\u001b[0;34m.\u001b[0m\u001b[0mcompile_element_sequence\u001b[0m\u001b[0;34m(\u001b[0m\u001b[0;34m)\u001b[0m\u001b[0;34m\u001b[0m\u001b[0;34m\u001b[0m\u001b[0m\n\u001b[0m\u001b[1;32m    112\u001b[0m \u001b[0;34m\u001b[0m\u001b[0m\n\u001b[1;32m    113\u001b[0m     \u001b[0;32mdef\u001b[0m \u001b[0mre_write\u001b[0m\u001b[0;34m(\u001b[0m\u001b[0mself\u001b[0m\u001b[0;34m)\u001b[0m\u001b[0;34m:\u001b[0m\u001b[0;34m\u001b[0m\u001b[0;34m\u001b[0m\u001b[0m\n",
      "\u001b[0;32m~/ep/Evolucao-Plantas-reforged/Application/lSystems/__init__.py\u001b[0m in \u001b[0;36mcompile_element_sequence\u001b[0;34m(self)\u001b[0m\n\u001b[1;32m     63\u001b[0m \u001b[0;34m\u001b[0m\u001b[0m\n\u001b[1;32m     64\u001b[0m             \u001b[0;32mif\u001b[0m \u001b[0melement\u001b[0m\u001b[0;34m.\u001b[0m\u001b[0mcontent\u001b[0m \u001b[0;32min\u001b[0m \u001b[0mself\u001b[0m\u001b[0;34m.\u001b[0m\u001b[0mstorage_operators\u001b[0m\u001b[0;34m:\u001b[0m\u001b[0;34m\u001b[0m\u001b[0;34m\u001b[0m\u001b[0m\n\u001b[0;32m---> 65\u001b[0;31m                 \u001b[0mself\u001b[0m\u001b[0;34m.\u001b[0m\u001b[0mstorage_operators\u001b[0m\u001b[0;34m[\u001b[0m\u001b[0melement\u001b[0m\u001b[0;34m.\u001b[0m\u001b[0mcontent\u001b[0m\u001b[0;34m]\u001b[0m\u001b[0;34m(\u001b[0m\u001b[0mi\u001b[0m\u001b[0;34m)\u001b[0m\u001b[0;34m\u001b[0m\u001b[0;34m\u001b[0m\u001b[0m\n\u001b[0m\u001b[1;32m     66\u001b[0m \u001b[0;34m\u001b[0m\u001b[0m\n\u001b[1;32m     67\u001b[0m \u001b[0;34m\u001b[0m\u001b[0m\n",
      "\u001b[0;32m~/ep/Evolucao-Plantas-reforged/Application/lSystems/__init__.py\u001b[0m in \u001b[0;36mreturn_state\u001b[0;34m(self, idx)\u001b[0m\n\u001b[1;32m    105\u001b[0m     \u001b[0;32mdef\u001b[0m \u001b[0mreturn_state\u001b[0m\u001b[0;34m(\u001b[0m\u001b[0mself\u001b[0m\u001b[0;34m,\u001b[0m \u001b[0midx\u001b[0m\u001b[0;34m)\u001b[0m\u001b[0;34m:\u001b[0m\u001b[0;34m\u001b[0m\u001b[0;34m\u001b[0m\u001b[0m\n\u001b[1;32m    106\u001b[0m         \u001b[0mprint\u001b[0m\u001b[0;34m(\u001b[0m\u001b[0;34mf'## stack_store -> {self.stack_store}'\u001b[0m\u001b[0;34m)\u001b[0m\u001b[0;34m\u001b[0m\u001b[0;34m\u001b[0m\u001b[0m\n\u001b[0;32m--> 107\u001b[0;31m         \u001b[0mself\u001b[0m\u001b[0;34m.\u001b[0m\u001b[0mstack_send\u001b[0m\u001b[0;34m.\u001b[0m\u001b[0mappend\u001b[0m\u001b[0;34m(\u001b[0m\u001b[0;34m(\u001b[0m\u001b[0midx\u001b[0m\u001b[0;34m,\u001b[0m \u001b[0mself\u001b[0m\u001b[0;34m.\u001b[0m\u001b[0mstack_store\u001b[0m\u001b[0;34m.\u001b[0m\u001b[0mpop\u001b[0m\u001b[0;34m(\u001b[0m\u001b[0;34m)\u001b[0m\u001b[0;34m)\u001b[0m\u001b[0;34m)\u001b[0m\u001b[0;34m\u001b[0m\u001b[0;34m\u001b[0m\u001b[0m\n\u001b[0m\u001b[1;32m    108\u001b[0m \u001b[0;34m\u001b[0m\u001b[0m\n\u001b[1;32m    109\u001b[0m     \u001b[0;32mdef\u001b[0m \u001b[0mrun_generation\u001b[0m\u001b[0;34m(\u001b[0m\u001b[0mself\u001b[0m\u001b[0;34m)\u001b[0m\u001b[0;34m:\u001b[0m\u001b[0;34m\u001b[0m\u001b[0;34m\u001b[0m\u001b[0m\n",
      "\u001b[0;31mIndexError\u001b[0m: pop from empty list"
     ]
    }
   ],
   "source": [
    "sys_ = L_system('F', {'F': {'r' : 'F[+FF]F'}})\n",
    "sys_.run(2)\n",
    "plt.xlim(-10, 10)"
   ]
  },
  {
   "cell_type": "code",
   "execution_count": 10,
   "id": "4573edb8",
   "metadata": {},
   "outputs": [
    {
     "data": {
      "text/plain": [
       "[Linha(pos=([0, 0], [6.123234e-17 2.000000e+00]), angle=90, size=1, width=1, color=#000000),\n",
       " Linha(pos=([6.123234e-17 2.000000e+00], [1.2246468e-16 4.0000000e+00]), angle=90, size=1, width=1, color=#000000),\n",
       " Linha(pos=([1.2246468e-16 4.0000000e+00], [1.8369702e-16 6.0000000e+00]), angle=90, size=1, width=1, color=#000000),\n",
       " Linha(pos=([1.8369702e-16 6.0000000e+00], [2.4492936e-16 8.0000000e+00]), angle=90, size=1, width=1, color=#000000)]"
      ]
     },
     "execution_count": 10,
     "metadata": {},
     "output_type": "execute_result"
    }
   ],
   "source": [
    "sys_.lines"
   ]
  },
  {
   "cell_type": "code",
   "execution_count": 16,
   "id": "bff8eb12",
   "metadata": {},
   "outputs": [
    {
     "data": {
      "text/plain": [
       "-33"
      ]
     },
     "execution_count": 16,
     "metadata": {},
     "output_type": "execute_result"
    }
   ],
   "source": [
    "90-123"
   ]
  },
  {
   "cell_type": "code",
   "execution_count": 5,
   "id": "b80bfcd2-205f-48f7-97af-731234721472",
   "metadata": {},
   "outputs": [],
   "source": [
    "from  Application.lSystems.structure import Element_sequence\n",
    "from  Application.lSystems.structure import Element\n",
    "\n",
    "__default = {'visual' :{'size': 1, \n",
    "                            'width': 1, \n",
    "                            'color': '#000000'},\n",
    "                'space'   :{'position': (0,0),\n",
    "                            'angle': 90,\n",
    "                            'angle_diff': 33},\n",
    "                'canvas'  :{'width': 1000,\n",
    "                            'height': 1000}\n",
    "                }\n",
    "\n",
    "es = Element_sequence()\n",
    "es2 = Element_sequence()"
   ]
  },
  {
   "cell_type": "code",
   "execution_count": 6,
   "id": "7b6a277c-9da3-4ab1-a502-5feeae1d3516",
   "metadata": {},
   "outputs": [],
   "source": [
    "es.append(Element('F', __default))\n",
    "es.append(Element('F', __default))\n",
    "es.append(Element('E', __default))\n",
    "es.append(Element('R', __default))\n",
    "es.append(Element('R', __default))\n",
    "es.append(Element('O', __default))\n",
    "es.append(Element('F', __default))\n",
    "\n",
    "es2.append(Element('X', __default))\n",
    "es2.append(Element('X', __default))\n",
    "es2.append(Element('X', __default))"
   ]
  },
  {
   "cell_type": "code",
   "execution_count": 7,
   "id": "6159ea6b-5a43-49f9-a85f-f2bf1485d669",
   "metadata": {},
   "outputs": [
    {
     "data": {
      "text/plain": [
       "[0, 1, 6]"
      ]
     },
     "execution_count": 7,
     "metadata": {},
     "output_type": "execute_result"
    }
   ],
   "source": [
    "es.find_all(Element('F', __default))"
   ]
  },
  {
   "cell_type": "code",
   "execution_count": 8,
   "id": "12bfed7b-05a7-4bd5-b85c-7e1863fbcb37",
   "metadata": {},
   "outputs": [
    {
     "data": {
      "text/plain": [
       "[C(F), C(F), C(E), C(R), C(R), C(O), C(F)]"
      ]
     },
     "execution_count": 8,
     "metadata": {},
     "output_type": "execute_result"
    }
   ],
   "source": [
    "es"
   ]
  },
  {
   "cell_type": "code",
   "execution_count": 9,
   "id": "3947f712-5475-42bb-bf02-98d6c429dd13",
   "metadata": {},
   "outputs": [],
   "source": [
    "es.replace(Element('R', __default),Element('A', __default))"
   ]
  },
  {
   "cell_type": "code",
   "execution_count": 10,
   "id": "4c6d85df-f456-4bd0-af38-a6eb5b2e775d",
   "metadata": {},
   "outputs": [],
   "source": [
    "es.replace(Element('O', __default),es2)"
   ]
  },
  {
   "cell_type": "code",
   "execution_count": 11,
   "id": "55aad530-c29a-46b6-852d-c78505042a9c",
   "metadata": {},
   "outputs": [
    {
     "data": {
      "text/plain": [
       "[C(F), C(F), C(E), C(A), C(A), C(X), C(X), C(X), C(F)]"
      ]
     },
     "execution_count": 11,
     "metadata": {},
     "output_type": "execute_result"
    }
   ],
   "source": [
    "es"
   ]
  },
  {
   "cell_type": "code",
   "execution_count": 7,
   "id": "03e729a1-61eb-490e-9267-7a2b1c733d07",
   "metadata": {},
   "outputs": [
    {
     "data": {
      "image/png": "[encoded data removed]",
      "text/plain": [
       "<Figure size 432x288 with 1 Axes>"
      ]
     },
     "metadata": {
      "needs_background": "light"
     },
     "output_type": "display_data"
    }
   ],
   "source": [
    "import Application.lSystems.structure.line as line\n",
    "\n",
    "l = line.Linha(angle=0, size=1, width=2, color=(0,0,0))\n",
    "\n",
    "l.start_position = (0,0)\n",
    "l.end_position = (0,1)\n",
    "\n",
    "l.rotate()\n",
    "\n",
    "l.plot()"
   ]
  },
  {
   "cell_type": "code",
   "execution_count": 8,
   "id": "ff35e639",
   "metadata": {},
   "outputs": [
    {
     "data": {
      "text/plain": [
       "array([1., 0.])"
      ]
     },
     "execution_count": 8,
     "metadata": {},
     "output_type": "execute_result"
    }
   ],
   "source": [
    "l.rotate()\n"
   ]
  },
  {
   "cell_type": "code",
   "execution_count": 4,
   "id": "7049c5e3",
   "metadata": {},
   "outputs": [
    {
     "data": {
      "text/plain": [
       "1"
      ]
     },
     "execution_count": 4,
     "metadata": {},
     "output_type": "execute_result"
    }
   ],
   "source": [
    "[1].pop()"
   ]
  },
  {
   "cell_type": "code",
   "execution_count": 4,
   "id": "2939e251-1155-4047-bcea-eaf55cbcca8c",
   "metadata": {},
   "outputs": [
    {
     "data": {
      "text/plain": [
       "3"
      ]
     },
     "execution_count": 4,
     "metadata": {},
     "output_type": "execute_result"
    }
   ],
   "source": [
    "[1,2,3][-1]"
   ]
  },
  {
   "cell_type": "code",
   "execution_count": 5,
   "id": "5860e9d0-72b8-4e96-aa5a-da35dcbeb844",
   "metadata": {},
   "outputs": [
    {
     "data": {
      "text/plain": [
       "3"
      ]
     },
     "execution_count": 5,
     "metadata": {},
     "output_type": "execute_result"
    }
   ],
   "source": [
    "[1,2,3].pop()"
   ]
  },
  {
   "cell_type": "code",
   "execution_count": null,
   "id": "09da3811-37df-406e-b365-6410f3b5727b",
   "metadata": {},
   "outputs": [],
   "source": []
  }
 ],
 "metadata": {
  "kernelspec": {
   "display_name": "Python 3",
   "language": "python",
   "name": "python3"
  },
  "language_info": {
   "codemirror_mode": {
    "name": "ipython",
    "version": 3
   },
   "file_extension": ".py",
   "mimetype": "text/x-python",
   "name": "python",
   "nbconvert_exporter": "python",
   "pygments_lexer": "ipython3",
   "version": "3.7.11"
  }
 },
 "nbformat": 4,
 "nbformat_minor": 5
}
