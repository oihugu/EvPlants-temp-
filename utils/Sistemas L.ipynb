{
 "cells": [
  {
   "cell_type": "code",
   "execution_count": 358,
   "metadata": {
    "executionInfo": {
     "elapsed": 370,
     "status": "ok",
     "timestamp": 1646718074057,
     "user": {
      "displayName": "Hugo Amorim Martins",
      "photoUrl": "https://lh3.googleusercontent.com/a-/AOh14GhGy8-JWOGGsE5CmDW_SwrQ_g9Q86XwnY25rz-EdA=s64",
      "userId": "14196082488550477237"
     },
     "user_tz": 180
    },
    "id": "AgTjjDLwXn9W"
   },
   "outputs": [],
   "source": [
    "import matplotlib.pyplot as plt\n",
    "import numpy as np"
   ]
  },
  {
   "cell_type": "code",
   "execution_count": 355,
   "metadata": {
    "executionInfo": {
     "elapsed": 2,
     "status": "ok",
     "timestamp": 1646718074426,
     "user": {
      "displayName": "Hugo Amorim Martins",
      "photoUrl": "https://lh3.googleusercontent.com/a-/AOh14GhGy8-JWOGGsE5CmDW_SwrQ_g9Q86XwnY25rz-EdA=s64",
      "userId": "14196082488550477237"
     },
     "user_tz": 180
    },
    "id": "9h8uS4joVsGW"
   },
   "outputs": [],
   "source": [
    "class Stack:\n",
    "    def __init__(self):\n",
    "        self.stack = []\n",
    "\n",
    "    def add(self, dataval):\n",
    "        self.stack.append(dataval)\n",
    "        \n",
    "    def remove(self):\n",
    "        if len(self.stack) <= 0:\n",
    "            raise()\n",
    "        else:\n",
    "            return self.stack.pop()\n",
    "        \n",
    "class Linha():\n",
    "    \n",
    "    def __init__(self, start_position, end_position, size, width, color):\n",
    "        self.size = size\n",
    "        self.width = width\n",
    "        self.color = color\n",
    "        self.start_position = start_position\n",
    "        self.end_position = end_position\n",
    "\n",
    "class L_system():\n",
    "\n",
    "    def __init__(self, initial_string, re_write_rules, size = 1, width = 1, color = '#000000'):\n",
    "        '''\n",
    "        re_write_rules - dicionário com as regras de produção para cada simbolo\n",
    "        symbols - lista de simbolos que não serão ignorados pelo programa\n",
    "        O caractere padrão para o desenho de uma linha é \"F\"\n",
    "        '''\n",
    "        self.d_position, self.lines, self.angle, self.angle_diff = (0,0), [], 90, 33\n",
    "        self.size, self.d_width, self.d_color = size, width, color\n",
    "        self.string = initial_string\n",
    "        self.re_write_rules = re_write_rules\n",
    "        self.stack_pos = Stack()\n",
    "        self.stack_angle = Stack()\n",
    "        self.angle_operations = {\n",
    "            '+' : lambda x : x.angle + self.angle_diff,\n",
    "            '-' : lambda x : x.angle - self.angle_diff\n",
    "        }\n",
    "        self.position_operators = {\n",
    "            'F' : self.draw_segment\n",
    "        }\n",
    "        self.storage_operators = {\n",
    "            '[' : self.store_state,\n",
    "            ']' : self.return_state\n",
    "        }\n",
    "    \n",
    "    def set_color(self, color):\n",
    "        self.color = color\n",
    "    \n",
    "    def set_width(self, width):\n",
    "        self.width = width\n",
    "        \n",
    "    def store_state(self):\n",
    "        self.stack_pos.add(self.position)\n",
    "        self.stack_angle.add(self.angle)\n",
    "            \n",
    "    def return_state(self):\n",
    "        self.position = self.stack_pos.remove()\n",
    "        self.angle = self.stack_angle.remove()\n",
    "        \n",
    "    def rotate(self):\n",
    "        theta = np.radians(self.angle - 90)\n",
    "        c, s = np.cos(theta), np.sin(theta)\n",
    "        R = np.array(((c, -s), (s, c)))\n",
    "        return R.dot(np.array([self.size,0]))\n",
    "\n",
    "\n",
    "    def draw_segment(self):\n",
    "        self.lines.append(Linha(self.position,\n",
    "                                self.position + self.rotate(),\n",
    "                                self.size,\n",
    "                                self.width,\n",
    "                                self.color))\n",
    "        self.position = self.position + self.rotate()\n",
    "\n",
    "        \n",
    "    def step(self):\n",
    "        self.width, self.color = self.d_width, self.d_color\n",
    "        self.position = (0,0)\n",
    "        self.lines = []\n",
    "        holder = 0\n",
    "        \n",
    "        for sub_string in self.re_write_rules.keys():\n",
    "            self.string = self.string.replace(sub_string, self.re_write_rules[sub_string])\n",
    "        \n",
    "        for carac in self.string:\n",
    "                if carac in self.angle_operations.keys():\n",
    "                    self.angle = self.angle_operations[carac](self)\n",
    "\n",
    "                elif carac in self.position_operators.keys():\n",
    "                    self.position_operators[carac]()\n",
    "\n",
    "                elif carac in self.storage_operators.keys():\n",
    "                    self.storage_operators[carac]()\n",
    "    \n",
    "    def plot(self):\n",
    "        x = []\n",
    "        y = []\n",
    "        for line in self.lines:\n",
    "            plt.plot([line.start_position[1],line.end_position[1]],\n",
    "                     [line.start_position[0],line.end_position[0]],\n",
    "                     linestyle = '-',\n",
    "                     linewidth = line.width,\n",
    "                     color = line.color)\n",
    "        a.lines = []\n",
    "        plt.axis('equal')\n",
    "        plt.axis('off')\n",
    "            \n",
    "            \n",
    "            \n",
    "        "
   ]
  },
  {
   "cell_type": "code",
   "execution_count": 357,
   "metadata": {
    "executionInfo": {
     "elapsed": 253,
     "status": "ok",
     "timestamp": 1646718075913,
     "user": {
      "displayName": "Hugo Amorim Martins",
      "photoUrl": "https://lh3.googleusercontent.com/a-/AOh14GhGy8-JWOGGsE5CmDW_SwrQ_g9Q86XwnY25rz-EdA=s64",
      "userId": "14196082488550477237"
     },
     "user_tz": 180
    },
    "id": "98PiweYdaTQA"
   },
   "outputs": [
    {
     "data": {
      "image/png": "[encoded data removed]",
      "text/plain": [
       "<Figure size 432x288 with 1 Axes>"
      ]
     },
     "metadata": {
      "needs_background": "light"
     },
     "output_type": "display_data"
    }
   ],
   "source": [
    "a = L_system('X', {'X':'F[+X][-X]FX'})\n",
    "\n",
    "for i in range(0,5):\n",
    "    a.step()\n",
    "    \n",
    "a.plot()"
   ]
  },
  {
   "cell_type": "code",
   "execution_count": null,
   "metadata": {},
   "outputs": [],
   "source": []
  }
 ],
 "metadata": {
  "colab": {
   "authorship_tag": "ABX9TyPgow4z+qp1wCEBwR/t8hpe",
   "name": "Sistemas L.ipynb",
   "provenance": []
  },
  "kernelspec": {
   "display_name": "Python 3",
   "language": "python",
   "name": "python3"
  },
  "language_info": {
   "codemirror_mode": {
    "name": "ipython",
    "version": 3
   },
   "file_extension": ".py",
   "mimetype": "text/x-python",
   "name": "python",
   "nbconvert_exporter": "python",
   "pygments_lexer": "ipython3",
   "version": "3.7.12"
  }
 },
 "nbformat": 4,
 "nbformat_minor": 4
}
